{
 "cells": [
  {
   "cell_type": "code",
   "execution_count": 7,
   "metadata": {},
   "outputs": [
    {
     "data": {
      "text/html": [
       "<div>\n",
       "<style scoped>\n",
       "    .dataframe tbody tr th:only-of-type {\n",
       "        vertical-align: middle;\n",
       "    }\n",
       "\n",
       "    .dataframe tbody tr th {\n",
       "        vertical-align: top;\n",
       "    }\n",
       "\n",
       "    .dataframe thead th {\n",
       "        text-align: right;\n",
       "    }\n",
       "</style>\n",
       "<table border=\"1\" class=\"dataframe\">\n",
       "  <thead>\n",
       "    <tr style=\"text-align: right;\">\n",
       "      <th></th>\n",
       "      <th>task_id</th>\n",
       "      <th>completion</th>\n",
       "    </tr>\n",
       "  </thead>\n",
       "  <tbody>\n",
       "    <tr>\n",
       "      <th>0</th>\n",
       "      <td>HumanEval/0</td>\n",
       "      <td>\\n    return all(abs(number - threshold) &lt; thr...</td>\n",
       "    </tr>\n",
       "    <tr>\n",
       "      <th>1</th>\n",
       "      <td>HumanEval/0</td>\n",
       "      <td>\\n    return all(x &lt; threshold for x in numbers)</td>\n",
       "    </tr>\n",
       "    <tr>\n",
       "      <th>2</th>\n",
       "      <td>HumanEval/0</td>\n",
       "      <td>\\n    return all(abs(x) &lt;= threshold for x in ...</td>\n",
       "    </tr>\n",
       "    <tr>\n",
       "      <th>3</th>\n",
       "      <td>HumanEval/0</td>\n",
       "      <td>\\n    return all(abs(n - threshold) &lt; threshol...</td>\n",
       "    </tr>\n",
       "    <tr>\n",
       "      <th>4</th>\n",
       "      <td>HumanEval/0</td>\n",
       "      <td>\\n    return all(abs(x) &lt; threshold for x in n...</td>\n",
       "    </tr>\n",
       "  </tbody>\n",
       "</table>\n",
       "</div>"
      ],
      "text/plain": [
       "       task_id                                         completion\n",
       "0  HumanEval/0  \\n    return all(abs(number - threshold) < thr...\n",
       "1  HumanEval/0   \\n    return all(x < threshold for x in numbers)\n",
       "2  HumanEval/0  \\n    return all(abs(x) <= threshold for x in ...\n",
       "3  HumanEval/0  \\n    return all(abs(n - threshold) < threshol...\n",
       "4  HumanEval/0  \\n    return all(abs(x) < threshold for x in n..."
      ]
     },
     "execution_count": 7,
     "metadata": {},
     "output_type": "execute_result"
    }
   ],
   "source": [
    "import json\n",
    "import pandas as pd\n",
    "import numpy as np\n",
    "import matplotlib.pyplot as plt\n",
    "import seaborn as sns\n",
    "\n",
    "# load C:/Users/sabin/Desktop/Capstone/PyCodeGPT/results/human_eval.t0.2.p0.95.l100.n100.samples.jsonl\n",
    "results = pd.DataFrame(columns=['task_id', 'completion'])\n",
    "\n",
    "with open('C:/Users/sabin/Desktop/Capstone/PyCodeGPT/results/human_eval.t0.2.p0.95.l100.n100.samples.jsonl') as f:\n",
    "    for line in f:\n",
    "        data = json.loads(line)\n",
    "        results = pd.concat([results, pd.DataFrame(data, index=[0])], ignore_index=True)\n",
    "        \n",
    "results.head()"
   ]
  }
 ],
 "metadata": {
  "kernelspec": {
   "display_name": "sabin",
   "language": "python",
   "name": "python3"
  },
  "language_info": {
   "codemirror_mode": {
    "name": "ipython",
    "version": 3
   },
   "file_extension": ".py",
   "mimetype": "text/x-python",
   "name": "python",
   "nbconvert_exporter": "python",
   "pygments_lexer": "ipython3",
   "version": "3.9.17"
  }
 },
 "nbformat": 4,
 "nbformat_minor": 2
}
